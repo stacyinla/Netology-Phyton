{
 "cells": [
  {
   "cell_type": "markdown",
   "metadata": {},
   "source": [
    "**Функции — использование встроенных и создание собственных**\n",
    "\n",
    "**Задание 1**\n",
    "\n",
    "Дан список вида:\n",
    "\n",
    "data = [\n",
    "[13, 25, 23, 34],\n",
    "[45, 32, 44, 47],\n",
    "[12, 33, 23, 95],\n",
    "[13, 53, 34, 35],\n",
    "]\n",
    "\n",
    "Напишите функцию, которая возвращает сумму элементов на диагонали. Т. е. 13+32+23+35."
   ]
  },
  {
   "cell_type": "code",
   "execution_count": 1,
   "metadata": {},
   "outputs": [
    {
     "name": "stdout",
     "output_type": "stream",
     "text": [
      "103\n"
     ]
    }
   ],
   "source": [
    "def main_diagonal(matrix):\n",
    "    sum_ = 0\n",
    "    for x in range(len(matrix)):\n",
    "        sum_ += matrix[x][x]\n",
    "    return sum_\n",
    "\n",
    "data = [\n",
    "[13, 25, 23, 34],\n",
    "[45, 32, 44, 47],\n",
    "[12, 33, 23, 95],\n",
    "[13, 53, 34, 35],\n",
    "]\n",
    "print(main_diagonal(data))"
   ]
  },
  {
   "cell_type": "markdown",
   "metadata": {},
   "source": [
    "***Задание 2***\n",
    "\n",
    "Дан список чисел, часть из которых имеют строковый тип или содержат буквы. Напишите функцию, которая возвращает сумму квадратов элементов, которые могут быть числами.\n",
    "\n",
    "data = [1, ‘5’, ‘abc’, 20, ‘2’]"
   ]
  },
  {
   "cell_type": "code",
   "execution_count": 2,
   "metadata": {},
   "outputs": [
    {
     "name": "stdout",
     "output_type": "stream",
     "text": [
      "430\n"
     ]
    }
   ],
   "source": [
    "def isint(data):\n",
    "    sum_ = 0\n",
    "    for x in data:\n",
    "        try:\n",
    "            sum_ += int(x)**2\n",
    "        except ValueError:\n",
    "            sum_ += 0\n",
    "    return sum_\n",
    "\n",
    "data = [1, '5', 'abc', 20, '2']\n",
    "print(isint(data))"
   ]
  },
  {
   "cell_type": "markdown",
   "metadata": {},
   "source": [
    "***Задание 3***\n",
    "\n",
    "Напишите функцию, которая возвращает название валюты (поле ‘Name’) с максимальным значением курса с помощью сервиса https://www.cbr-xml-daily.ru/daily_json.js"
   ]
  },
  {
   "cell_type": "code",
   "execution_count": 3,
   "metadata": {},
   "outputs": [
    {
     "name": "stdout",
     "output_type": "stream",
     "text": [
      "Датских крон\n"
     ]
    }
   ],
   "source": [
    "import requests\n",
    "def get_max_value():\n",
    "    \"\"\"Возвращает наименование валюты с максимальным значением курса (к рублю)\"\"\"\n",
    "    \n",
    "    r = requests.get('https://www.cbr-xml-daily.ru/daily_json.js')\n",
    "    response = r.json()['Valute']\n",
    "    max_value = 0\n",
    "    max_name = \"No information\"\n",
    "    for i in response:\n",
    "        if response[i]['Value'] > max_value:\n",
    "            max_value = response[i]['Value']\n",
    "            max_name = response[i]['Name']\n",
    "    return max_name\n",
    "\n",
    "print(get_max_value())"
   ]
  },
  {
   "cell_type": "markdown",
   "metadata": {},
   "source": [
    "***Задание 4***\n",
    "\n",
    "Последнее упражнение с занятия\n",
    "\n",
    "Добавьте в класс еще один формат, который возвращает название валюты (например, ‘Евро’).\n",
    "\n",
    "Добавьте в класс параметр diff (со значениями True или False), который в случае значения True в методах eur и usd будет возвращать не курс валюты, а изменение по сравнению в прошлым значением."
   ]
  },
  {
   "cell_type": "code",
   "execution_count": 4,
   "metadata": {},
   "outputs": [],
   "source": [
    "#Добавленные строки прокомментированы\n",
    "\n",
    "class Rate:\n",
    "    def __init__(self, format='value', diff = False):                       #новая переменная diff в переменных класса\n",
    "        self.format = format\n",
    "        self.diff = diff                                                    #инициплизируем diff\n",
    "    \n",
    "    def exchange_rates(self):\n",
    "        \"\"\"\n",
    "        Возвращает ответ сервиса с информацией о валютах в виде:\n",
    "        \n",
    "        {\n",
    "            'AMD': {\n",
    "                'CharCode': 'AMD',\n",
    "                'ID': 'R01060',\n",
    "                'Name': 'Армянских драмов',\n",
    "                'Nominal': 100,\n",
    "                'NumCode': '051',\n",
    "                'Previous': 14.103,\n",
    "                'Value': 14.0879\n",
    "                },\n",
    "            ...\n",
    "        }\n",
    "        \"\"\"\n",
    "        r = requests.get('https://www.cbr-xml-daily.ru/daily_json.js')\n",
    "        return r.json()['Valute']\n",
    "    \n",
    "    def make_format(self, currency):\n",
    "        \"\"\"\n",
    "        Возвращает информацию о валюте currency в вариантах:\n",
    "        - полная информация о валюте при self.format = 'full':\n",
    "        Rate('full').make_format('EUR')\n",
    "        {\n",
    "            'CharCode': 'EUR',             'ID': 'R01239',             'Name': 'Евро',             'Nominal': 1, \n",
    "            'NumCode': '978',             'Previous': 79.6765,             'Value': 79.4966\n",
    "        }\n",
    "        \n",
    "        - краткая при self.format = 'value':\n",
    "        Rate('value').make_format('EUR')\n",
    "        79.4966\n",
    "        \n",
    "        - Краткая с именем валюты при self.format = 'with_name':\n",
    "        Rate('with_name').eur()\n",
    "        ('Евро', 74.0237)\n",
    "        \n",
    "        - Вместо значения - изменение по сравнению в прошлым значением при self.diff = True:\n",
    "        Rate(diff = True).usd()\n",
    "        -0.17839999999999634\n",
    "        \"\"\"\n",
    "        response = self.exchange_rates()\n",
    "        \n",
    "        if currency in response:\n",
    "            if self.format == 'full':\n",
    "                return response[currency]\n",
    "            \n",
    "            if self.format == 'value':\n",
    "                if self.diff == False:                                                          #дополнительное условие для diff\n",
    "                    return response[currency]['Value']\n",
    "                elif self.diff == True:                                                         #если diff = True: \n",
    "                    return response[currency]['Value'] - response[currency]['Previous']         #проводим вычисление \n",
    "            \n",
    "            if self.format == 'with_name':\n",
    "                if self.diff == False:                                                          #дополнительное условие для diff\n",
    "                    return response[currency]['Name'], response[currency]['Value']\n",
    "                elif self.diff == True:                                                        \n",
    "                     return response[currency]['Name'], response[currency]['Value'] - response[currency]['Previous']\n",
    "        \n",
    "        return 'Error'\n",
    "    \n",
    "    def eur(self):\n",
    "        \"\"\"Возвращает курс евро на сегодня в формате self.format\"\"\"\n",
    "        return self.make_format('EUR')\n",
    "    \n",
    "    def usd(self):\n",
    "        \"\"\"Возвращает курс доллара на сегодня в формате self.format\"\"\"\n",
    "        return self.make_format('USD')"
   ]
  },
  {
   "cell_type": "code",
   "execution_count": 5,
   "metadata": {},
   "outputs": [
    {
     "data": {
      "text/plain": [
       "('Евро', 74.0613)"
      ]
     },
     "execution_count": 5,
     "metadata": {},
     "output_type": "execute_result"
    }
   ],
   "source": [
    "Rate('with_name').eur()"
   ]
  },
  {
   "cell_type": "code",
   "execution_count": 6,
   "metadata": {},
   "outputs": [
    {
     "data": {
      "text/plain": [
       "74.0613"
      ]
     },
     "execution_count": 6,
     "metadata": {},
     "output_type": "execute_result"
    }
   ],
   "source": [
    "Rate().eur()"
   ]
  },
  {
   "cell_type": "code",
   "execution_count": 7,
   "metadata": {},
   "outputs": [
    {
     "data": {
      "text/plain": [
       "0.037599999999997635"
      ]
     },
     "execution_count": 7,
     "metadata": {},
     "output_type": "execute_result"
    }
   ],
   "source": [
    "Rate(diff = True).eur()"
   ]
  },
  {
   "cell_type": "code",
   "execution_count": 8,
   "metadata": {},
   "outputs": [
    {
     "data": {
      "text/plain": [
       "-0.1868999999999943"
      ]
     },
     "execution_count": 8,
     "metadata": {},
     "output_type": "execute_result"
    }
   ],
   "source": [
    "Rate(diff = True).usd()"
   ]
  },
  {
   "cell_type": "code",
   "execution_count": 9,
   "metadata": {},
   "outputs": [
    {
     "data": {
      "text/plain": [
       "('Евро', 0.037599999999997635)"
      ]
     },
     "execution_count": 9,
     "metadata": {},
     "output_type": "execute_result"
    }
   ],
   "source": [
    "Rate('with_name', True).eur()"
   ]
  },
  {
   "cell_type": "code",
   "execution_count": 10,
   "metadata": {},
   "outputs": [
    {
     "data": {
      "text/plain": [
       "('Доллар США', 65.4021)"
      ]
     },
     "execution_count": 10,
     "metadata": {},
     "output_type": "execute_result"
    }
   ],
   "source": [
    "Rate('with_name').usd()"
   ]
  },
  {
   "cell_type": "markdown",
   "metadata": {},
   "source": [
    "***Задание 5***\n",
    "\n",
    "Напишите функцию, возвращающую сумму первых n чисел Фибоначчи"
   ]
  },
  {
   "cell_type": "code",
   "execution_count": 11,
   "metadata": {},
   "outputs": [
    {
     "name": "stdout",
     "output_type": "stream",
     "text": [
      "12\n"
     ]
    }
   ],
   "source": [
    "def fib(n):\n",
    "    \"\"\"Возвращает сумму первых n чисел ряда Фибоначчи\n",
    "    Ряд генерируется в списке. Новый элемент вычисляется путем суммирования предыдущих двух\"\"\"\n",
    "    fib_ = []\n",
    "    for i in range(n):\n",
    "        if i <= 1:\n",
    "            fib_.append(1)\n",
    "        else:\n",
    "            fib_.append(fib_[i-1] + fib_[i-2])\n",
    "    return sum(fib_)\n",
    "\n",
    "print(fib(5))           "
   ]
  },
  {
   "cell_type": "code",
   "execution_count": 12,
   "metadata": {},
   "outputs": [
    {
     "name": "stdout",
     "output_type": "stream",
     "text": [
      "12\n"
     ]
    }
   ],
   "source": [
    "def fib(n):\n",
    "    \"\"\"Возвращает n-ое число ряда Фибоначчи, вычисление рекурсивно: fib(n) = fin(n-1) + fin(n-1)\"\"\"\n",
    "    if (n <= 2):\n",
    "        return 1\n",
    "    return fib(n - 1) + fib(n - 2)\n",
    "\n",
    "n = 5\n",
    "sum = 0\n",
    "for i in range(1, n + 1):                                #сумма вычисляется в основной программе\n",
    "    sum += fib(i)\n",
    "print(sum)"
   ]
  },
  {
   "cell_type": "markdown",
   "metadata": {},
   "source": [
    "Хотелось сделать рекурсивное вычисление и суммирование в одной функции, но не получилось"
   ]
  },
  {
   "cell_type": "markdown",
   "metadata": {},
   "source": [
    "***Задание 6***\n",
    "\n",
    "Напишите функцию, преобразующую произвольный список вида [‘2018-01-01’, ‘yandex’, ‘cpc’, 100] в словарь {‘2018-01-01’: {‘yandex’: {‘cpc’: 100}}}"
   ]
  },
  {
   "cell_type": "code",
   "execution_count": 13,
   "metadata": {},
   "outputs": [
    {
     "name": "stdout",
     "output_type": "stream",
     "text": [
      "{'2018-01-01': {'yandex': {'cpc': 100}}}\n"
     ]
    }
   ],
   "source": [
    "def change(data):\n",
    "    d = dict()\n",
    "    d_medium = dict()\n",
    "    d_big = dict()\n",
    "    for i in range(-2, -1 - len(data), -1):\n",
    "        label = data[i]\n",
    "        data[i] = dict()\n",
    "        data[i][label] = data[i + 1]\n",
    "    return(data[0])\n",
    "\n",
    "\n",
    "data = ['2018-01-01', 'yandex', 'cpc', 100]\n",
    "print(change(data))"
   ]
  }
 ],
 "metadata": {
  "kernelspec": {
   "display_name": "Python 3",
   "language": "python",
   "name": "python3"
  },
  "language_info": {
   "codemirror_mode": {
    "name": "ipython",
    "version": 3
   },
   "file_extension": ".py",
   "mimetype": "text/x-python",
   "name": "python",
   "nbconvert_exporter": "python",
   "pygments_lexer": "ipython3",
   "version": "3.7.1"
  }
 },
 "nbformat": 4,
 "nbformat_minor": 2
}
