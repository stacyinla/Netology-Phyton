{
 "cells": [
  {
   "cell_type": "markdown",
   "metadata": {},
   "source": [
    "****Классы и их применения в Python****\n",
    "\n",
    "***Задание 1***\n",
    "\n",
    "Напишите функцию date_range, которая возвращает список дней между датами start_date и end_date. Даты должны вводиться в формате YYYY-MM-DD."
   ]
  },
  {
   "cell_type": "code",
   "execution_count": 51,
   "metadata": {},
   "outputs": [
    {
     "name": "stdout",
     "output_type": "stream",
     "text": [
      "['2019-01-31', '2019-02-01', '2019-02-02', '2019-02-03', '2019-02-04', '2019-02-05', '2019-02-06', '2019-02-07', '2019-02-08', '2019-02-09', '2019-02-10', '2019-02-11', '2019-02-12', '2019-02-13', '2019-02-14', '2019-02-15', '2019-02-16', '2019-02-17', '2019-02-18', '2019-02-19', '2019-02-20', '2019-02-21', '2019-02-22', '2019-02-23', '2019-02-24', '2019-02-25', '2019-02-26', '2019-02-27', '2019-02-28', '2019-03-01']\n"
     ]
    }
   ],
   "source": [
    "from datetime import datetime\n",
    "from datetime import timedelta\n",
    "\n",
    "def  date_range(start_date, end_date):\n",
    "    date1 = datetime.strptime(start_date, '%Y-%m-%d')\n",
    "    date2 = datetime.strptime(end_date, '%Y-%m-%d')\n",
    "    dates = []\n",
    "    while date1 <= date2:\n",
    "        dates.append(date1.strftime(\"%Y-%m-%d\"))\n",
    "        date1 += timedelta(days=1)\n",
    "    return dates\n",
    "\n",
    "  \n",
    "print(date_range(\"2019-01-31\", \"2019-03-01\"))"
   ]
  },
  {
   "cell_type": "markdown",
   "metadata": {},
   "source": [
    "***Задание 2***\n",
    "\n",
    "Дополните функцию из первого задания проверкой на корректность дат. В случае неверного формата или если start_date > end_date должен возвращаться пустой список.\n"
   ]
  },
  {
   "cell_type": "code",
   "execution_count": 57,
   "metadata": {},
   "outputs": [
    {
     "name": "stdout",
     "output_type": "stream",
     "text": [
      "['2019-01-31', '2019-02-01', '2019-02-02', '2019-02-03', '2019-02-04', '2019-02-05', '2019-02-06', '2019-02-07', '2019-02-08', '2019-02-09', '2019-02-10', '2019-02-11', '2019-02-12', '2019-02-13', '2019-02-14', '2019-02-15', '2019-02-16', '2019-02-17', '2019-02-18', '2019-02-19', '2019-02-20', '2019-02-21', '2019-02-22', '2019-02-23', '2019-02-24', '2019-02-25', '2019-02-26', '2019-02-27', '2019-02-28', '2019-03-01']\n"
     ]
    }
   ],
   "source": [
    "from datetime import datetime\n",
    "from datetime import timedelta\n",
    "\n",
    "def date_correct(start_date, end_date):\n",
    "    try:\n",
    "        date1 = datetime.strptime(start_date, '%Y-%m-%d')\n",
    "        date2 = datetime.strptime(end_date, '%Y-%m-%d')\n",
    "        if date2 >= date1:\n",
    "            return True\n",
    "        else:\n",
    "            return False\n",
    "    except ValueError:\n",
    "        return False\n",
    "        \n",
    "def  date_range(start_date, end_date):\n",
    "    dates = []\n",
    "    if date_correct(start_date, end_date):\n",
    "        date1 = datetime.strptime(start_date, '%Y-%m-%d')\n",
    "        date2 = datetime.strptime(end_date, '%Y-%m-%d')\n",
    "        while date1 <= date2:\n",
    "            dates.append(date1.strftime(\"%Y-%m-%d\"))\n",
    "            date1 += timedelta(days=1)\n",
    "    return dates\n",
    "\n",
    "  \n",
    "print(date_range(\"2019-01-31\", \"2019-03-01\"))"
   ]
  },
  {
   "cell_type": "code",
   "execution_count": 58,
   "metadata": {},
   "outputs": [
    {
     "name": "stdout",
     "output_type": "stream",
     "text": [
      "[]\n"
     ]
    }
   ],
   "source": [
    "print(date_range(\"2025-01-31\", \"2019-03-01\"))"
   ]
  },
  {
   "cell_type": "code",
   "execution_count": 59,
   "metadata": {},
   "outputs": [
    {
     "name": "stdout",
     "output_type": "stream",
     "text": [
      "[]\n"
     ]
    }
   ],
   "source": [
    "print(date_range(\"2025-01-31xxx\", \"2019-03-01\"))"
   ]
  },
  {
   "cell_type": "markdown",
   "metadata": {},
   "source": [
    "***Задание 3***\n",
    "\n",
    "Дан поток дат в формате YYYY-MM-DD, в которых встречаются некорректные значения:\n",
    "stream = [‘2018-04-02’, ‘2018-02-29’, ‘2018-19-02’]\n",
    "Напишите функцию, которая проверяет эти даты на корректность. Т. е. для каждой даты возвращает True (дата корректна) или False (некорректная дата)."
   ]
  },
  {
   "cell_type": "code",
   "execution_count": 68,
   "metadata": {},
   "outputs": [
    {
     "name": "stdout",
     "output_type": "stream",
     "text": [
      "2018-04-02 True\n",
      "2018-02-29 False\n",
      "2018-19-02 False\n"
     ]
    }
   ],
   "source": [
    "from datetime import datetime\n",
    "\n",
    "def date_correct(date):\n",
    "    try:\n",
    "        date_datetime = datetime.strptime(date, '%Y-%m-%d')\n",
    "        return True\n",
    "    except ValueError:\n",
    "        return False\n",
    "\n",
    "stream = ['2018-04-02', '2018-02-29', '2018-19-02']\n",
    "for date in stream:\n",
    "    print(date, date_correct(date))"
   ]
  },
  {
   "cell_type": "markdown",
   "metadata": {},
   "source": [
    "***Задание 4***\n",
    "\n",
    "Напишите функцию, которая возвращает список дат с 1 по вчерашний день текущего месяца. Если дан 1 день месяца, то возвращается список дней прошлого месяца."
   ]
  },
  {
   "cell_type": "code",
   "execution_count": 96,
   "metadata": {},
   "outputs": [
    {
     "data": {
      "text/plain": [
       "['2019-03-01',\n",
       " '2019-03-02',\n",
       " '2019-03-03',\n",
       " '2019-03-04',\n",
       " '2019-03-05',\n",
       " '2019-03-06',\n",
       " '2019-03-07',\n",
       " '2019-03-08',\n",
       " '2019-03-09',\n",
       " '2019-03-10',\n",
       " '2019-03-11',\n",
       " '2019-03-12',\n",
       " '2019-03-13',\n",
       " '2019-03-14',\n",
       " '2019-03-15',\n",
       " '2019-03-16']"
      ]
     },
     "execution_count": 96,
     "metadata": {},
     "output_type": "execute_result"
    }
   ],
   "source": [
    "#Примечание: \"1 день месяца\" - поняла как \"Первый день месяца\"\n",
    "from datetime import datetime\n",
    "from datetime import timedelta\n",
    "\n",
    "def date_list():\n",
    "    \"\"\"возвращает список дат с 1 по вчерашний день текущего месяца. \n",
    "    Если первый день месяца, то возвращается список дней прошлого месяца.\"\"\"\n",
    "    dates = []\n",
    "    now_date = datetime.now()\n",
    "    if now_date.day == 1:\n",
    "        now_date -= timedelta(days = 1)\n",
    "    else:\n",
    "        now_date -= timedelta(days = 1)\n",
    "        start_date = now_date - timedelta(days = now_date.day - 1)\n",
    "    start_date = now_date - timedelta(days = now_date.day - 1)\n",
    "    \n",
    "    while start_date <= now_date:\n",
    "        dates.append(start_date.strftime(\"%Y-%m-%d\"))\n",
    "        start_date += timedelta(days=1)\n",
    "    return dates\n",
    "\n",
    "\n",
    "date_list()"
   ]
  },
  {
   "cell_type": "markdown",
   "metadata": {},
   "source": [
    "***Задание 5***\n",
    "\n",
    "Напишите функцию, которая возвращает точную дату в формате YYYY-MM-DD по фразе:\n",
    "\n",
    "‘today’ - сегодняшнюю дату\n",
    "‘last monday’ - прошлый понедельник\n",
    "‘last day’ - Последний день текущего месяца"
   ]
  },
  {
   "cell_type": "code",
   "execution_count": 77,
   "metadata": {},
   "outputs": [
    {
     "name": "stdout",
     "output_type": "stream",
     "text": [
      "today\n"
     ]
    },
    {
     "data": {
      "text/plain": [
       "'2019-03-17'"
      ]
     },
     "execution_count": 77,
     "metadata": {},
     "output_type": "execute_result"
    }
   ],
   "source": [
    "from datetime import datetime\n",
    "from datetime import timedelta\n",
    "\n",
    "def get_date(day):\n",
    "    \"\"\"возвращает точную дату в формате YYYY-MM-DD по фразе:\n",
    "    ‘today’ - сегодняшнюю дату, ‘last monday’ - прошлый понедельник, ‘last day’ - Последний день текущего месяца\"\"\"\n",
    "    \n",
    "    now_date = datetime.now()\n",
    "    if day == \"today\":\n",
    "        return now_date.strftime('%Y-%m-%d')\n",
    "    elif day == \"last monday\":\n",
    "        now_date -= timedelta(days = now_date.weekday() + 7)\n",
    "        return now_date.strftime('%Y-%m-%d')\n",
    "    elif day == \"last day\":\n",
    "        now_date -= timedelta(days = 1)\n",
    "        return now_date.strftime('%Y-%m-%d')\n",
    "    else:\n",
    "        return \"Error\"\n",
    "\n",
    "day = input()\n",
    "get_date(day)"
   ]
  },
  {
   "cell_type": "code",
   "execution_count": 78,
   "metadata": {},
   "outputs": [
    {
     "name": "stdout",
     "output_type": "stream",
     "text": [
      "last monday\n"
     ]
    },
    {
     "data": {
      "text/plain": [
       "'2019-03-04'"
      ]
     },
     "execution_count": 78,
     "metadata": {},
     "output_type": "execute_result"
    }
   ],
   "source": [
    "day = input()\n",
    "get_date(day)"
   ]
  },
  {
   "cell_type": "code",
   "execution_count": 79,
   "metadata": {},
   "outputs": [
    {
     "name": "stdout",
     "output_type": "stream",
     "text": [
      "last day\n"
     ]
    },
    {
     "data": {
      "text/plain": [
       "'2019-03-16'"
      ]
     },
     "execution_count": 79,
     "metadata": {},
     "output_type": "execute_result"
    }
   ],
   "source": [
    "day = input()\n",
    "get_date(day)"
   ]
  }
 ],
 "metadata": {
  "kernelspec": {
   "display_name": "Python 3",
   "language": "python",
   "name": "python3"
  },
  "language_info": {
   "codemirror_mode": {
    "name": "ipython",
    "version": 3
   },
   "file_extension": ".py",
   "mimetype": "text/x-python",
   "name": "python",
   "nbconvert_exporter": "python",
   "pygments_lexer": "ipython3",
   "version": "3.7.1"
  }
 },
 "nbformat": 4,
 "nbformat_minor": 2
}
