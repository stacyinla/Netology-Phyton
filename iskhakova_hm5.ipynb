{
 "cells": [
  {
   "cell_type": "markdown",
   "metadata": {},
   "source": [
    "****Домашнее задание к занятию «Python для анализа данных: numpy и scipy»****\n",
    "    \n",
    "***Задание 1***\n",
    "Создайте numpy array с элементами от числа N до 0 (например, для N = 10 это будет array([9, 8, 7, 6, 5, 4, 3, 2, 1, 0]))."
   ]
  },
  {
   "cell_type": "code",
   "execution_count": 102,
   "metadata": {},
   "outputs": [
    {
     "data": {
      "text/plain": [
       "array([9, 8, 7, 6, 5, 4, 3, 2, 1, 0])"
      ]
     },
     "execution_count": 102,
     "metadata": {},
     "output_type": "execute_result"
    }
   ],
   "source": [
    "import numpy as np\n",
    "\n",
    "n = 10\n",
    "np.arange(n-1, 0-1, -1)"
   ]
  },
  {
   "cell_type": "code",
   "execution_count": 103,
   "metadata": {},
   "outputs": [
    {
     "data": {
      "text/plain": [
       "array([9., 8., 7., 6., 5., 4., 3., 2., 1., 0.])"
      ]
     },
     "execution_count": 103,
     "metadata": {},
     "output_type": "execute_result"
    }
   ],
   "source": [
    "np.linspace(n-1, 0, n)"
   ]
  },
  {
   "cell_type": "markdown",
   "metadata": {},
   "source": [
    "***Задание 2***\n",
    "\n",
    "Создайте диагональную матрицу с элементами от N до 0. Посчитайте сумму ее значений на диагонали."
   ]
  },
  {
   "cell_type": "code",
   "execution_count": 108,
   "metadata": {},
   "outputs": [
    {
     "name": "stdout",
     "output_type": "stream",
     "text": [
      "[[9 0 0 0 0 0 0 0 0 0]\n",
      " [0 8 0 0 0 0 0 0 0 0]\n",
      " [0 0 7 0 0 0 0 0 0 0]\n",
      " [0 0 0 6 0 0 0 0 0 0]\n",
      " [0 0 0 0 5 0 0 0 0 0]\n",
      " [0 0 0 0 0 4 0 0 0 0]\n",
      " [0 0 0 0 0 0 3 0 0 0]\n",
      " [0 0 0 0 0 0 0 2 0 0]\n",
      " [0 0 0 0 0 0 0 0 1 0]\n",
      " [0 0 0 0 0 0 0 0 0 0]]\n",
      "45\n"
     ]
    }
   ],
   "source": [
    "import numpy as np\n",
    "\n",
    "n = 10\n",
    "total = 0\n",
    "x = np.diag(np.arange(n-1, 0-1, -1), k=0)\n",
    "print(x)\n",
    "\n",
    "for i in range(0, n):\n",
    "    total += x[i][i]\n",
    "    \n",
    "print(total)"
   ]
  },
  {
   "cell_type": "markdown",
   "metadata": {},
   "source": [
    "***Задание 3***\n",
    "\n",
    "Скачайте с сайта https://grouplens.org/datasets/movielens/ датасет любого размера. Определите какому фильму было выставлено больше всего оценок 5.0."
   ]
  },
  {
   "cell_type": "code",
   "execution_count": 91,
   "metadata": {},
   "outputs": [
    {
     "name": "stdout",
     "output_type": "stream",
     "text": [
      "Shawshank Redemption, The (1994) : 153\n"
     ]
    }
   ],
   "source": [
    "import pandas as pd\n",
    "movies = pd.read_csv(\"ml-latest-small/movies.csv\")\n",
    "ratings = pd.read_csv(\"ml-latest-small/ratings.csv\")\n",
    "ratings.head()\n",
    "\n",
    "#было непросто найти метод index.tolist(), чтобы получить значения id фильма, \n",
    "#так как .values в данном случае возвращает число упоминаний, а первый столбец отбрасывает\n",
    "data = ratings[ ratings.rating == 5.0 ]['movieId'].value_counts().head(1)\n",
    "movie_count = data.values[0]\n",
    "movie_id = data.index.tolist()[0] \n",
    "\n",
    "print(movies[ movies.movieId == movie_id].values[0][1], \":\" , movie_count)"
   ]
  },
  {
   "cell_type": "code",
   "execution_count": 92,
   "metadata": {},
   "outputs": [
    {
     "name": "stdout",
     "output_type": "stream",
     "text": [
      "Shawshank Redemption, The (1994)\n"
     ]
    }
   ],
   "source": [
    "#попробовала собрать в 1 запрос, но такое нагромождения скорее всего сложно понять\n",
    "print(movies[ movies.movieId == ratings[ ratings.rating == 5.0 ]['movieId'].value_counts().head(1).index.tolist()].values[0][1])"
   ]
  },
  {
   "cell_type": "markdown",
   "metadata": {},
   "source": [
    "***Задание 4***\n",
    "\n",
    "По данным файла power.csv посчитайте суммарное потребление стран Прибалтики (Латвия, Литва и Эстония) категорий 4, 12 и 21 за период с 2005 по 2010 года. Не учитывайте в расчетах отрицательные значения quantity."
   ]
  },
  {
   "cell_type": "code",
   "execution_count": 127,
   "metadata": {},
   "outputs": [
    {
     "name": "stdout",
     "output_type": "stream",
     "text": [
      "           quantity\n",
      "country            \n",
      "Estonia     63440.0\n",
      "Latvia      54844.0\n",
      "Lithuania  122296.0\n",
      "\n",
      "Общее потребление стран Латвия, Литва, Эстония =  240580.0\n"
     ]
    }
   ],
   "source": [
    "import pandas as pd\n",
    "power = pd.read_csv(\"power.csv\")\n",
    "\n",
    "data = power[ ((power['country'] == 'Latvia') | (power['country'] == 'Lithuania') | (power['country'] == 'Estonia')) & \n",
    "      ((power['category'] == 4) | (power['category'] == 12) | (power['category'] == 21)) & \n",
    "      ( power['year'] >= 2005) & ( power['year'] <= 2010) & \n",
    "      ( power['quantity'] >= 0) ].groupby('country').sum().filter(items = ['country', 'quantity'])\n",
    "print(data)\n",
    "\n",
    "print(\"\\nОбщее потребление стран Латвия, Литва, Эстония = \" ,\n",
    "      data.sum().filter(items = ['quantity']).values[0])\n"
   ]
  },
  {
   "cell_type": "markdown",
   "metadata": {},
   "source": [
    "***Задание 5***\n",
    "\n",
    "Решите систему уравнений:\n",
    "\n",
    "4x + 2y + z = 4\n",
    "\n",
    "x + 3y = 12\n",
    "\n",
    "5y + 4z = -3"
   ]
  },
  {
   "cell_type": "code",
   "execution_count": 138,
   "metadata": {},
   "outputs": [
    {
     "name": "stdout",
     "output_type": "stream",
     "text": [
      "x = 0.4666666666666668 \n",
      "y = 3.844444444444444 \n",
      "z = -5.555555555555555\n",
      "\n"
     ]
    }
   ],
   "source": [
    "import numpy as np\n",
    "\n",
    "a = np.array([[4, 2, 1], [1, 3, 0], [0, 5, 4]])                           # коэффициенты при переменных в левой части уравнения\n",
    "b = np.array([4, 12, -3])                                                 # значения в правой части уравнения\n",
    "c = linalg.solve(a, b)                                                    # решение\n",
    "print(\"x = {} \\ny = {} \\nz = {}\\n\".format(c[0], c[1], c[2]))"
   ]
  }
 ],
 "metadata": {
  "kernelspec": {
   "display_name": "Python 3",
   "language": "python",
   "name": "python3"
  },
  "language_info": {
   "codemirror_mode": {
    "name": "ipython",
    "version": 3
   },
   "file_extension": ".py",
   "mimetype": "text/x-python",
   "name": "python",
   "nbconvert_exporter": "python",
   "pygments_lexer": "ipython3",
   "version": "3.7.1"
  }
 },
 "nbformat": 4,
 "nbformat_minor": 2
}
