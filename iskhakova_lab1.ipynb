{
 "cells": [
  {
   "cell_type": "markdown",
   "metadata": {},
   "source": [
    "****Лабораторная работа по модулю “Python для анализа данных”****\n",
    "\n",
    "Списки и строки – одни из важных начальных понятий для любого дата сайентиста, поскольку на знании принципов работы с ними строится работа с препроцессингом и обработкой данных в python в целом и работы с модулем pandas в частности:\n",
    "\n",
    "1.1 Дан произвольный список, содержащий только числа. Выведите результат сложения всех чисел больше 10.\n"
   ]
  },
  {
   "cell_type": "code",
   "execution_count": 1,
   "metadata": {},
   "outputs": [
    {
     "name": "stdout",
     "output_type": "stream",
     "text": [
      "1111223.8\n"
     ]
    }
   ],
   "source": [
    "array = [1, 5, 5.1, 7, 10, 11.8, 5, 7, 101, 1111111]\n",
    "sum = 0\n",
    "for x in array:\n",
    "    if x > 10:\n",
    "        sum += x\n",
    "print(sum)"
   ]
  },
  {
   "cell_type": "markdown",
   "metadata": {},
   "source": [
    "1.2 Пусть задан список, содержащий строки. Выведите все строки, заканчивающиеся буквой r."
   ]
  },
  {
   "cell_type": "code",
   "execution_count": 3,
   "metadata": {},
   "outputs": [
    {
     "name": "stdout",
     "output_type": "stream",
     "text": [
      "error\n",
      "moor\n",
      "peer\n"
     ]
    }
   ],
   "source": [
    "array = ['flat', 'dog', 'error', 'moor', 'hi', 'peer']\n",
    "for x in array:\n",
    "    if x[-1] == 'r':\n",
    "        print(x)"
   ]
  },
  {
   "cell_type": "markdown",
   "metadata": {},
   "source": [
    "1.3 Сгенерируйте и выведите cлучайную строку размером 6 символов, содержащую только цифры. Строка должна содержать хотя\n",
    "бы одну цифру 3."
   ]
  },
  {
   "cell_type": "code",
   "execution_count": 3,
   "metadata": {},
   "outputs": [
    {
     "name": "stdout",
     "output_type": "stream",
     "text": [
      "352522\n"
     ]
    }
   ],
   "source": [
    "import random\n",
    "while True:\n",
    "    x = []\n",
    "    for i in range(6):\n",
    "        x.append(random.randint(0, 9))\n",
    "    if 3 in x:\n",
    "        str_ = ''.join(str(e) for e in x)\n",
    "        print(str_)\n",
    "        break"
   ]
  },
  {
   "cell_type": "code",
   "execution_count": 1,
   "metadata": {},
   "outputs": [
    {
     "name": "stdout",
     "output_type": "stream",
     "text": [
      "a-b-c\n"
     ]
    }
   ],
   "source": [
    "s = \"-\"\n",
    "seq = (\"a\", \"b\", \"c\") # Это последовательность строк.\n",
    "print (s.join( seq ))"
   ]
  },
  {
   "cell_type": "markdown",
   "metadata": {},
   "source": [
    "1.4 Пусть дана строка произвольной длины. Выведите информацию о том, сколько в ней символов и сколько слов."
   ]
  },
  {
   "cell_type": "code",
   "execution_count": 8,
   "metadata": {},
   "outputs": [
    {
     "name": "stdout",
     "output_type": "stream",
     "text": [
      "70 symbols\n",
      "8 words\n"
     ]
    }
   ],
   "source": [
    "str = 'kl ah sdlhkied bhkeckehbc kel/eqdcke; /dkedjnewkjeb dkwbdkb felf;elfkq'\n",
    "print(len(str), 'symbols')\n",
    "print(len(str.split(' ')), 'words')"
   ]
  },
  {
   "cell_type": "markdown",
   "metadata": {},
   "source": [
    "-----------------------------------------------------------------------------------\n",
    "Матрицы-следующее за списками и строками важное понятие. Широко используется в линейной алгебре. Находит свое\n",
    "применение в современных рекомендательных системах и архитектуре нейронных сетей:\n",
    "\n",
    "2.1 Пусть дана матрица чисел размером NхN. Представьте данную матрицу в виде списка. Выведите результат сложения всех элементов матрицы."
   ]
  },
  {
   "cell_type": "code",
   "execution_count": 27,
   "metadata": {},
   "outputs": [
    {
     "name": "stdout",
     "output_type": "stream",
     "text": [
      "[ 0  1  2  3  4  5  6  7  8  9 10 11 12 13 14 15 16 17 18 19 20 21 22 23\n",
      " 24 25 26 27 28 29 30 31 32 33 34 35]\n",
      "630\n"
     ]
    }
   ],
   "source": [
    "import numpy as np\n",
    "\n",
    "n = 6\n",
    "x = np.arange( 0, n*n )\n",
    "x = x.reshape(n, n)                  #получили матрицу\n",
    "\n",
    "x = x.reshape(1, n*n)[0]          #получили список из матрицы\n",
    "print(x)\n",
    "print(sum(x))"
   ]
  },
  {
   "cell_type": "markdown",
   "metadata": {},
   "source": [
    "2.2 Дана матрица размером NxM. Напишите алгоритм вычисления максимума из сумм элементов каждого столбца."
   ]
  },
  {
   "cell_type": "code",
   "execution_count": 43,
   "metadata": {},
   "outputs": [
    {
     "name": "stdout",
     "output_type": "stream",
     "text": [
      "[[ 0  1  2  3  4]\n",
      " [ 5  6  7  8  9]\n",
      " [10 11 12 13 14]\n",
      " [15 16 17 18 19]\n",
      " [20 21 22 23 24]\n",
      " [25 26 27 28 29]\n",
      " [30 31 32 33 34]\n",
      " [35 36 37 38 39]\n",
      " [40 41 42 43 44]\n",
      " [45 46 47 48 49]]\n",
      "\n",
      " 265\n"
     ]
    }
   ],
   "source": [
    "import numpy as np\n",
    "\n",
    "n = 10\n",
    "m = 5\n",
    "x = np.arange( 0, n*m )\n",
    "x = x.reshape(n, m)                     #получили матрицу\n",
    "print(x)\n",
    "\n",
    "sums = x[0]\n",
    "for i in range(1, n):\n",
    "    for j in range(0, m):\n",
    "        sums[j] += x[i][j]\n",
    "        \n",
    "print(\"\\n\",max(sums))    \n",
    "    \n",
    "\n"
   ]
  },
  {
   "cell_type": "markdown",
   "metadata": {},
   "source": [
    "Работа с динамичными структурами важная часть в имплементации вашего кода в продакшн систему:\n",
    "\n",
    "3.1 Пусть список студентов представлен в виде структуры [[No, ФИО, Возраст,Группа],[No, ФИО, Возраст, Группа],[No, ФИО, Возраст, Группа]].\n",
    "\n",
    "Преобразуйте список в словарь вида: {No: [ФИО, Возраст, Группа], No:[....], No: [....]}"
   ]
  },
  {
   "cell_type": "code",
   "execution_count": 1,
   "metadata": {},
   "outputs": [
    {
     "name": "stdout",
     "output_type": "stream",
     "text": [
      "{0: ['Иванов Петр Карлович', 19, '121'], 1: ['Иванов Игнат Петрович', 28, '121-1'], 3: ['Шульгина Алия Львовна', 17, '121-1']}\n"
     ]
    }
   ],
   "source": [
    "students = [[0, \"Иванов Петр Карлович\", 19, \"121\"],\n",
    "            [1, \"Иванов Игнат Петрович\", 28, \"121-1\"],\n",
    "            [3, \"Шульгина Алия Львовна\", 17, \"121-1\"]]\n",
    "studens_dict = dict()\n",
    "\n",
    "for student in students:\n",
    "    studens_dict[student[0]] = student[1:]\n",
    "    \n",
    "print(studens_dict)"
   ]
  },
  {
   "cell_type": "markdown",
   "metadata": {},
   "source": [
    "3.2 Напишите алгоритм, позволяющий найти запись в словаре из задачи 3.1 (без преобразования словаря обратно в список) по фамилии и изменить в ней номер группы. Фамилию и новый номер группы необходимо ввести с клавиатуры."
   ]
  },
  {
   "cell_type": "code",
   "execution_count": 2,
   "metadata": {},
   "outputs": [
    {
     "name": "stdout",
     "output_type": "stream",
     "text": [
      "Иванов\n",
      "145\n",
      "{0: ['Иванов Петр Карлович', 19, '145'], 1: ['Иванов Игнат Петрович', 28, '145'], 3: ['Шульгина Алия Львовна', 17, '121-1']}\n"
     ]
    }
   ],
   "source": [
    "#поскольку уточнений нет - будем менять группу всем с такой фамилией\n",
    "name = input()\n",
    "group = input()\n",
    "\n",
    "for value in studens_dict.values():\n",
    "    if name in value[0]:\n",
    "        value[2] = str(group)\n",
    "\n",
    "print(studens_dict)"
   ]
  },
  {
   "cell_type": "markdown",
   "metadata": {},
   "source": [
    "3.3 Напишите алгоритм, позволяющий аналогично задаче 3.2 изменить возраст студента"
   ]
  },
  {
   "cell_type": "code",
   "execution_count": 3,
   "metadata": {},
   "outputs": [
    {
     "name": "stdout",
     "output_type": "stream",
     "text": [
      "Иванов\n",
      "23\n"
     ]
    },
    {
     "data": {
      "text/plain": [
       "{0: ['Иванов Петр Карлович', '23', '145'],\n",
       " 1: ['Иванов Игнат Петрович', 28, '145'],\n",
       " 3: ['Шульгина Алия Львовна', 17, '121-1']}"
      ]
     },
     "execution_count": 3,
     "metadata": {},
     "output_type": "execute_result"
    }
   ],
   "source": [
    "#здесь будем менять возраст только первому с такой фамилией\n",
    "name = input()\n",
    "age = input()\n",
    "\n",
    "for value in studens_dict.values():\n",
    "    if name in value[0]:\n",
    "        value[1] = age\n",
    "        break\n",
    "\n",
    "studens_dict"
   ]
  }
 ],
 "metadata": {
  "kernelspec": {
   "display_name": "Python 3",
   "language": "python",
   "name": "python3"
  },
  "language_info": {
   "codemirror_mode": {
    "name": "ipython",
    "version": 3
   },
   "file_extension": ".py",
   "mimetype": "text/x-python",
   "name": "python",
   "nbconvert_exporter": "python",
   "pygments_lexer": "ipython3",
   "version": "3.7.1"
  }
 },
 "nbformat": 4,
 "nbformat_minor": 2
}
